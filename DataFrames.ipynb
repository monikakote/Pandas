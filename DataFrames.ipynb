{
  "nbformat": 4,
  "nbformat_minor": 0,
  "metadata": {
    "colab": {
      "provenance": [],
      "authorship_tag": "ABX9TyMpHtic2F7F+NkHLH3KQKhF",
      "include_colab_link": true
    },
    "kernelspec": {
      "name": "python3",
      "display_name": "Python 3"
    },
    "language_info": {
      "name": "python"
    }
  },
  "cells": [
    {
      "cell_type": "markdown",
      "metadata": {
        "id": "view-in-github",
        "colab_type": "text"
      },
      "source": [
        "<a href=\"https://colab.research.google.com/github/monikakote/Pandas/blob/main/DataFrames.ipynb\" target=\"_parent\"><img src=\"https://colab.research.google.com/assets/colab-badge.svg\" alt=\"Open In Colab\"/></a>"
      ]
    },
    {
      "cell_type": "markdown",
      "source": [
        "# What is a Pandas DataFrame?\n",
        "\n",
        "1. A DataFrame is like a table – just like an Excel sheet.\n",
        "2. It has rows and columns.\n",
        "3. It is a part of the Pandas library in Python.\n",
        "\n",
        "# Main Features of DataFrame:\n",
        "\n",
        "1. It is 2-dimensional – data is arranged in rows and columns .\n",
        "2. It is size-mutable – you can add or remove rows and columns.\n",
        "3. It is heterogeneous – each column can have different types of data (e.g., numbers, text).\n",
        "4. It has labels – rows and columns can have names (like headings).\n",
        "\n",
        "# 3 Main Parts of a DataFrame:\n",
        "\n",
        "1. Data – The actual information (values inside the table).\n",
        "2. Rows – Horizontal parts of the table.\n",
        "3. Columns – Vertical parts of the table (like name, age, marks, etc.).\n",
        "\n",
        "# Example:\n",
        "\n",
        "| Name   | Age | Marks |\n",
        "| ------ | --- | ----- |\n",
        "| Raj    | 20  | 85    |\n",
        "| Simran | 21  | 90    |\n",
        "\n",
        "* This is a **DataFrame**.\n",
        "* It has **3 columns**: Name, Age, Marks.\n",
        "* It has **2 rows** of data.\n"
      ],
      "metadata": {
        "id": "cBIxOuImQXWz"
      }
    },
    {
      "cell_type": "markdown",
      "source": [
        "# Creation of DataFrames in Pandas:\n",
        "\n"
      ],
      "metadata": {
        "id": "Gpu3z9CYSXWx"
      }
    },
    {
      "cell_type": "code",
      "execution_count": null,
      "metadata": {
        "colab": {
          "base_uri": "https://localhost:8080/"
        },
        "id": "MZB0qogLQTHF",
        "outputId": "819cd8e0-217a-4523-b977-e3a73a5d511a"
      },
      "outputs": [
        {
          "output_type": "stream",
          "name": "stdout",
          "text": [
            "   Name   Age  Salary\n",
            "0   John   25   30000\n",
            "1  Peter   28  450000\n",
            "2   Lisa   31  250000\n"
          ]
        }
      ],
      "source": [
        "import pandas as pd\n",
        "data={\"Name \":[\"John\",\"Peter\",\"Lisa\"],\n",
        "      \"Age\":[25,28,31],\n",
        "      \"Salary\":[30000,450000,250000]}\n",
        "df=pd.DataFrame(data)\n",
        "print(df)"
      ]
    }
  ]
}