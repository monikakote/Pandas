{
  "nbformat": 4,
  "nbformat_minor": 0,
  "metadata": {
    "colab": {
      "provenance": [],
      "authorship_tag": "ABX9TyNBle09zu9Ci4qDM0yBF/5V",
      "include_colab_link": true
    },
    "kernelspec": {
      "name": "python3",
      "display_name": "Python 3"
    },
    "language_info": {
      "name": "python"
    }
  },
  "cells": [
    {
      "cell_type": "markdown",
      "metadata": {
        "id": "view-in-github",
        "colab_type": "text"
      },
      "source": [
        "<a href=\"https://colab.research.google.com/github/monikakote/Pandas/blob/main/DataStructure_in_Pandas.ipynb\" target=\"_parent\"><img src=\"https://colab.research.google.com/assets/colab-badge.svg\" alt=\"Open In Colab\"/></a>"
      ]
    },
    {
      "cell_type": "markdown",
      "source": [
        "# Data Structure in Pandas:\n",
        "\n",
        "The Pandas provide two data structure for prodessing the data\n",
        "\n",
        "Series and DataFrame\n",
        "\n",
        "# Series:\n",
        "\n",
        "it is defined as a one-dimensiobal array that is capable of storing various data types.\n",
        "\n",
        "# syntax:\n",
        "\n",
        "import pandas as pd\n",
        "\n",
        "a=pd.Series()\n",
        "\n",
        "print(a)\n"
      ],
      "metadata": {
        "id": "TlI-N_WII8w3"
      }
    },
    {
      "cell_type": "code",
      "execution_count": 18,
      "metadata": {
        "colab": {
          "base_uri": "https://localhost:8080/"
        },
        "id": "sRQEHm7yI4F0",
        "outputId": "1cfb42ce-87fb-48af-f153-b7b5375cc436"
      },
      "outputs": [
        {
          "output_type": "stream",
          "name": "stdout",
          "text": [
            "a    3\n",
            "s    4\n",
            "d    5\n",
            "f    6\n",
            "Name: python, dtype: int64\n",
            "<class 'pandas.core.series.Series'>\n"
          ]
        }
      ],
      "source": [
        "import pandas as pd\n",
        "x=[3,4,5,6]\n",
        "var=pd.Series(x,index=['a','s','d','f'],name=\"python\")\n",
        "print(var)\n",
        "print(type(var))"
      ]
    },
    {
      "cell_type": "code",
      "source": [
        "dic={\"name\":['python','c','c++','java'],\"por\":[12,13,14,15],\"rank\":[1,2,3,2]}\n",
        "var1=pd.Series(dic)\n",
        "print(var1)"
      ],
      "metadata": {
        "colab": {
          "base_uri": "https://localhost:8080/"
        },
        "id": "iHW2AWkSLdO8",
        "outputId": "a5567484-641a-4a7a-d33a-cfd43dc07cb1"
      },
      "execution_count": null,
      "outputs": [
        {
          "output_type": "stream",
          "name": "stdout",
          "text": [
            "name    [python, c, c++, java]\n",
            "por           [12, 13, 14, 15]\n",
            "rank              [1, 2, 3, 2]\n",
            "dtype: object\n"
          ]
        }
      ]
    },
    {
      "cell_type": "code",
      "source": [
        "s=pd.Series(10,index=[1,2,3,4,5,6,7])\n",
        "print(s)\n",
        "print(type(s))"
      ],
      "metadata": {
        "colab": {
          "base_uri": "https://localhost:8080/"
        },
        "id": "KvpXYKEVMVt-",
        "outputId": "bcbf75fb-f452-4953-d410-c54ee887dda1"
      },
      "execution_count": null,
      "outputs": [
        {
          "output_type": "stream",
          "name": "stdout",
          "text": [
            "1    10\n",
            "2    10\n",
            "3    10\n",
            "4    10\n",
            "5    10\n",
            "6    10\n",
            "7    10\n",
            "dtype: int64\n",
            "<class 'pandas.core.series.Series'>\n"
          ]
        }
      ]
    },
    {
      "cell_type": "code",
      "source": [
        "s1=pd.Series(10,index=[1,2,3,4,5,6,7])\n",
        "s2=pd.Series(10,index=[1,2,3,4])\n",
        "print(s1+s2)"
      ],
      "metadata": {
        "colab": {
          "base_uri": "https://localhost:8080/"
        },
        "id": "zpn2yQlTMr7G",
        "outputId": "fa6ed69c-7dde-4155-803b-46478e10c217"
      },
      "execution_count": null,
      "outputs": [
        {
          "output_type": "stream",
          "name": "stdout",
          "text": [
            "1    20.0\n",
            "2    20.0\n",
            "3    20.0\n",
            "4    20.0\n",
            "5     NaN\n",
            "6     NaN\n",
            "7     NaN\n",
            "dtype: float64\n"
          ]
        }
      ]
    }
  ]
}