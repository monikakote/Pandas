{
  "nbformat": 4,
  "nbformat_minor": 0,
  "metadata": {
    "colab": {
      "provenance": [],
      "authorship_tag": "ABX9TyNe2yGgWPRf0gXP2m5AVQCO",
      "include_colab_link": true
    },
    "kernelspec": {
      "name": "python3",
      "display_name": "Python 3"
    },
    "language_info": {
      "name": "python"
    }
  },
  "cells": [
    {
      "cell_type": "markdown",
      "metadata": {
        "id": "view-in-github",
        "colab_type": "text"
      },
      "source": [
        "<a href=\"https://colab.research.google.com/github/monikakote/Pandas/blob/main/Arithmetic_oprations.ipynb\" target=\"_parent\"><img src=\"https://colab.research.google.com/assets/colab-badge.svg\" alt=\"Open In Colab\"/></a>"
      ]
    },
    {
      "cell_type": "markdown",
      "source": [
        "**Arithmatic Operations**\n",
        "\n",
        "Arithmetic operations in pandas are used to perform math calculations (like addition, subtraction, multiplication, etc.) on data stored in Series or DataFrames."
      ],
      "metadata": {
        "id": "bPN1dCMnzuNh"
      }
    },
    {
      "cell_type": "code",
      "execution_count": 2,
      "metadata": {
        "colab": {
          "base_uri": "https://localhost:8080/"
        },
        "id": "_nGDpKb7zlcc",
        "outputId": "7f347928-159e-46cc-a774-9cb20692e783"
      },
      "outputs": [
        {
          "output_type": "stream",
          "name": "stdout",
          "text": [
            "   A  B\n",
            "0  1  5\n",
            "1  2  6\n",
            "2  3  7\n",
            "3  4  8\n"
          ]
        }
      ],
      "source": [
        "import pandas as pd\n",
        "var = pd.DataFrame({\"A\":[1,2,3,4],\"B\":[5,6,7,8]})\n",
        "print(var)"
      ]
    },
    {
      "cell_type": "code",
      "source": [
        "var[\"C\"]= var[\"A\"]+ var[\"B\"]\n",
        "print(var)"
      ],
      "metadata": {
        "colab": {
          "base_uri": "https://localhost:8080/"
        },
        "id": "P2hTOX-30MXm",
        "outputId": "bcc90c80-514d-4dce-c677-b56624ac4945"
      },
      "execution_count": 3,
      "outputs": [
        {
          "output_type": "stream",
          "name": "stdout",
          "text": [
            "   A  B   C\n",
            "0  1  5   6\n",
            "1  2  6   8\n",
            "2  3  7  10\n",
            "3  4  8  12\n"
          ]
        }
      ]
    },
    {
      "cell_type": "code",
      "source": [
        "var[\"C\"]= var[\"A\"] - var[\"B\"]\n",
        "print(var)"
      ],
      "metadata": {
        "colab": {
          "base_uri": "https://localhost:8080/"
        },
        "id": "6uiYCHD30b4W",
        "outputId": "a07d6d16-3f71-4b35-b88e-87ac09d8d5c9"
      },
      "execution_count": 4,
      "outputs": [
        {
          "output_type": "stream",
          "name": "stdout",
          "text": [
            "   A  B  C\n",
            "0  1  5 -4\n",
            "1  2  6 -4\n",
            "2  3  7 -4\n",
            "3  4  8 -4\n"
          ]
        }
      ]
    },
    {
      "cell_type": "code",
      "source": [
        "var[\"C\"]= var[\"A\"] * var[\"B\"]\n",
        "print(var)"
      ],
      "metadata": {
        "colab": {
          "base_uri": "https://localhost:8080/"
        },
        "id": "dTiPveuH0epK",
        "outputId": "26e03dbd-23c6-49bb-a03d-b381fdccff96"
      },
      "execution_count": 5,
      "outputs": [
        {
          "output_type": "stream",
          "name": "stdout",
          "text": [
            "   A  B   C\n",
            "0  1  5   5\n",
            "1  2  6  12\n",
            "2  3  7  21\n",
            "3  4  8  32\n"
          ]
        }
      ]
    },
    {
      "cell_type": "code",
      "source": [
        "var[\"C\"]= var[\"A\"] /  var[\"B\"]\n",
        "print(var)"
      ],
      "metadata": {
        "colab": {
          "base_uri": "https://localhost:8080/"
        },
        "id": "Aa8nclEE0hut",
        "outputId": "4946a2c3-3365-474d-ee1c-ad844d3dacc8"
      },
      "execution_count": 9,
      "outputs": [
        {
          "output_type": "stream",
          "name": "stdout",
          "text": [
            "   A  B         C\n",
            "0  1  5  0.200000\n",
            "1  2  6  0.333333\n",
            "2  3  7  0.428571\n",
            "3  4  8  0.500000\n"
          ]
        }
      ]
    },
    {
      "cell_type": "code",
      "source": [
        "var1 = pd.DataFrame({\"A\":[10,20,30,40],\"B\":[15,16,17,18]})\n",
        "print(var1)"
      ],
      "metadata": {
        "colab": {
          "base_uri": "https://localhost:8080/"
        },
        "id": "SlpONzCX07qH",
        "outputId": "6f12df62-92c1-455d-c973-2a26cb235999"
      },
      "execution_count": 11,
      "outputs": [
        {
          "output_type": "stream",
          "name": "stdout",
          "text": [
            "    A   B\n",
            "0  10  15\n",
            "1  20  16\n",
            "2  30  17\n",
            "3  40  18\n"
          ]
        }
      ]
    },
    {
      "cell_type": "code",
      "source": [
        "var1[\"Python\"] = var1[\"A\"] <= 20\n",
        "var1[\"Python_1\"]= var1[\"B\"] >= 16\n",
        "print(var1)"
      ],
      "metadata": {
        "colab": {
          "base_uri": "https://localhost:8080/"
        },
        "id": "druuqzzn1G11",
        "outputId": "1b084195-1b57-42cf-b879-d093222a12c3"
      },
      "execution_count": 15,
      "outputs": [
        {
          "output_type": "stream",
          "name": "stdout",
          "text": [
            "    A   B  Python  Python_1\n",
            "0  10  15    True     False\n",
            "1  20  16    True      True\n",
            "2  30  17   False      True\n",
            "3  40  18   False      True\n"
          ]
        }
      ]
    },
    {
      "cell_type": "code",
      "source": [
        "import pandas as pd\n",
        "s1 = pd.Series([10, 20, 30])\n",
        "s2 = pd.Series([1, 2, 3])\n",
        "\n",
        "print(s1 + s2)\n",
        "print(s1 - s2)\n",
        "print(s1 * s2)\n",
        "print(s1 / s2)\n"
      ],
      "metadata": {
        "id": "ZzDoQFM52P1S"
      },
      "execution_count": null,
      "outputs": []
    }
  ]
}