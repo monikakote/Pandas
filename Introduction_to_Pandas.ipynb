{
  "nbformat": 4,
  "nbformat_minor": 0,
  "metadata": {
    "colab": {
      "provenance": [],
      "authorship_tag": "ABX9TyNG2xXd7tZ0QP0VsRH5eIhR",
      "include_colab_link": true
    },
    "kernelspec": {
      "name": "python3",
      "display_name": "Python 3"
    },
    "language_info": {
      "name": "python"
    }
  },
  "cells": [
    {
      "cell_type": "markdown",
      "metadata": {
        "id": "view-in-github",
        "colab_type": "text"
      },
      "source": [
        "<a href=\"https://colab.research.google.com/github/monikakote/Pandas/blob/main/Introduction_to_Pandas.ipynb\" target=\"_parent\"><img src=\"https://colab.research.google.com/assets/colab-badge.svg\" alt=\"Open In Colab\"/></a>"
      ]
    },
    {
      "cell_type": "markdown",
      "source": [
        "\n",
        "# What is Pandas in Python?\n",
        "\n",
        "Pandas is a Python package (tool) used for **working with data** easily.\n",
        "It helps us handle data that is like tables or labeled rows/columns (like Excel).\n",
        "\n",
        "# What Pandas Can Do:\n",
        "\n",
        "1. Analyze data– Find patterns, do calculations.\n",
        "2. Clean data– Fix or remove incorrect/missing data.\n",
        "3. Explore data– Look at summaries, charts, and stats.\n",
        "4. Manipulate data– Change or rearrange the data as needed.\n",
        "\n",
        "# Why is it Called \"Pandas\"?\n",
        "\n",
        "The name comes from **\"Panel Data\"** – A term used in statistics for data in tables.\n",
        "\n",
        "Also from **\"Python Data Analysis\"** – Since it's made for analyzing data using Python.\n",
        "\n",
        "# Pandas Applications:\n",
        "Easy handling of missing data\n",
        "\n",
        "size mutability\n",
        "\n",
        "Automatic and explicit data allignment\n"
      ],
      "metadata": {
        "id": "OQcu_IxAKdN_"
      }
    }
  ]
}